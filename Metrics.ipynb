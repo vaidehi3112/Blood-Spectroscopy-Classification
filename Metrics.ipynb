{
 "cells": [
  {
   "cell_type": "code",
   "execution_count": null,
   "id": "459c7a3f-d65b-4dc0-a886-713329b53bde",
   "metadata": {},
   "outputs": [],
   "source": [
    "#Metrics"
   ]
  },
  {
   "cell_type": "code",
   "execution_count": null,
   "id": "12c033f2-d1aa-47f5-bf61-c7f291942e34",
   "metadata": {},
   "outputs": [],
   "source": [
    "from sklearn.metrics import f1_score\n",
    "from sklearn.metrics import precision_score\n",
    "from sklearn.metrics import recall_score"
   ]
  },
  {
   "cell_type": "code",
   "execution_count": 1,
   "id": "544c6484-6f0e-49a3-be10-156a8b4af1aa",
   "metadata": {},
   "outputs": [],
   "source": [
    "def evaluateValidation(validationLabels_n,predicted_labels,targetvar):\n",
    "    f1 = f1_score(validationLabels_n[:,targetvar], \n",
    "                  predicted_labels, average='macro')\n",
    "    pre = precision_score(validationLabels_n[:,targetvar], predicted_labels, \n",
    "                        average = 'macro')\n",
    "    re = recall_score(validationLabels_n[:,targetvar], predicted_labels, \n",
    "                    average = 'macro')\n",
    "    return f1,pre,re"
   ]
  },
  {
   "cell_type": "code",
   "execution_count": null,
   "id": "a4b1c54b-7944-4baf-ae84-379f633e74e0",
   "metadata": {},
   "outputs": [],
   "source": []
  }
 ],
 "metadata": {
  "kernelspec": {
   "display_name": "Python 3",
   "language": "python",
   "name": "python3"
  },
  "language_info": {
   "codemirror_mode": {
    "name": "ipython",
    "version": 3
   },
   "file_extension": ".py",
   "mimetype": "text/x-python",
   "name": "python",
   "nbconvert_exporter": "python",
   "pygments_lexer": "ipython3",
   "version": "3.8.8"
  }
 },
 "nbformat": 4,
 "nbformat_minor": 5
}
