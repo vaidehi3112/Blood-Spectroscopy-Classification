{
 "cells": [
  {
   "cell_type": "code",
   "execution_count": 1,
   "id": "83afa15c-2772-489a-b614-7e0e99e22cb2",
   "metadata": {},
   "outputs": [],
   "source": [
    "import pandas as pd\n",
    "import numpy "
   ]
  },
  {
   "cell_type": "code",
   "execution_count": 2,
   "id": "033248fc-48b2-4e32-b7b6-4063e4b6aa65",
   "metadata": {},
   "outputs": [],
   "source": [
    "def transform(value):\n",
    "    if value == 0.0:\n",
    "        return 'low'\n",
    "    elif value == 1.0:\n",
    "        return 'ok'\n",
    "    else:\n",
    "        return 'high'"
   ]
  },
  {
   "cell_type": "code",
   "execution_count": 3,
   "id": "743d6aef-5d4b-4155-be8c-f3158e7fd81d",
   "metadata": {},
   "outputs": [],
   "source": [
    "def transform_c_hdl(row):\n",
    "    return str(row[\"donation_id\"]) + \"_hdl_cholesterol_human\" + \"-\" +  row[\"hdl_cholesterol_human\"]"
   ]
  },
  {
   "cell_type": "code",
   "execution_count": 4,
   "id": "37166374-e2af-43b5-a2c7-0eb5dc2fab00",
   "metadata": {},
   "outputs": [],
   "source": [
    "def transform_hemo(row):\n",
    "    return str(row[\"donation_id\"]) + \"_hemoglobin(hgb)_human\" +  \"-\" + row[\"hemoglobin(hgb)_human\"]"
   ]
  },
  {
   "cell_type": "code",
   "execution_count": 5,
   "id": "e99b18e5-3bcf-4bb2-8d08-0337a9bc57f9",
   "metadata": {},
   "outputs": [],
   "source": [
    "def transform_c_ldl(row):\n",
    "    return str(row[\"donation_id\"]) + \"_cholesterol_ldl_human\" +  \"-\" + row[\"cholesterol_ldl_human\"]"
   ]
  },
  {
   "cell_type": "code",
   "execution_count": 3,
   "id": "164a844c-771c-44b8-8906-3b31e79815d8",
   "metadata": {},
   "outputs": [],
   "source": [
    "def GenerateOutputFile(Hdl_cholesterol_human,Hemoglobin_hgb_human, Cholesterol_ldl_human, \n",
    "                       nofeature, modelDir,params,idx):\n",
    "    ss = pd.DataFrame()\n",
    "    ss[\"donation_id\"] = idx # don't messed up the ids. save them before.\n",
    "    ss[\"hdl_cholesterol_human\"] = Hdl_cholesterol_human\n",
    "    ss[\"hemoglobin(hgb)_human\"] = Hemoglobin_hgb_human\n",
    "    ss[\"cholesterol_ldl_human\"] = Cholesterol_ldl_human\n",
    "    \n",
    "    ss[\"hdl_cholesterol_human\"] = ss[\"hdl_cholesterol_human\"].apply(lambda x: transform(x))\n",
    "    ss[\"hemoglobin(hgb)_human\"] = ss[\"hemoglobin(hgb)_human\"].apply(lambda x: transform(x))\n",
    "    ss[\"cholesterol_ldl_human\"] = ss[\"cholesterol_ldl_human\"].apply(lambda x: transform(x))\n",
    "    \n",
    "    hdl_rows = pd.DataFrame(ss.apply(transform_c_hdl, axis=1))\n",
    "    hemo_rows = pd.DataFrame(ss.apply(transform_hemo, axis=1))\n",
    "    ldl_rows = pd.DataFrame(ss.apply(transform_c_ldl, axis=1))\n",
    "    \n",
    "    ss = pd.concat([hdl_rows, hemo_rows, ldl_rows]).reset_index(drop=True)\n",
    "    \n",
    "    ss[\"target\"] = ss[0].apply(lambda x: x.split(\"-\")[1])\n",
    "    ss[0] = ss[0].apply(lambda x: x.split(\"-\")[0])\n",
    "\n",
    "    ss = ss.rename(columns={0:\"Donation_ID\"})\n",
    "    outputfile = '/' + modelDir + '/out_F' + str(nofeature) + params + \".csv\"\n",
    "    maindir = \"/Users/apoorvamalemath/Documents/MS/SML/Project/BloodSpectrocopy/Final_files\"\n",
    "    print(maindir + outputfile)\n",
    "    ss.to_csv(maindir + outputfile, index = False)\n",
    "    "
   ]
  }
 ],
 "metadata": {
  "kernelspec": {
   "display_name": "Python 3",
   "language": "python",
   "name": "python3"
  },
  "language_info": {
   "codemirror_mode": {
    "name": "ipython",
    "version": 3
   },
   "file_extension": ".py",
   "mimetype": "text/x-python",
   "name": "python",
   "nbconvert_exporter": "python",
   "pygments_lexer": "ipython3",
   "version": "3.8.8"
  }
 },
 "nbformat": 4,
 "nbformat_minor": 5
}
